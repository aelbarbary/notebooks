{
 "cells": [
  {
   "attachments": {},
   "cell_type": "markdown",
   "id": "507e9482-4288-41c8-8c3d-5b9c3d2a7a82",
   "metadata": {
    "collapsed": true,
    "jupyter": {
     "outputs_hidden": true
    }
   },
   "source": [
    "# Introduction to Web Development and HTML\n",
    "\n",
    "## Introduction (10-15 minutes)\n",
    "\n",
    "Imagine building a house. Just like a house needs a strong foundation, walls, and a roof, websites also need basic building blocks to stand strong. HTML is like the framework of a house - it gives structure to web pages.\n",
    "\n",
    "In Islamic architecture, we see beautiful mosques with precise geometric patterns and carefully planned layouts. Similarly, web development requires attention to detail and thoughtful organization. Just as these sacred spaces serve their communities, the websites we build can benefit others.\n",
    "\n",
    "<img src=\"./images/mosque.jpeg\" width=\"200px\" style=\"display: block; margin: 0 auto;\" />\n",
    "\n",
    "#### Think of HTML tags as special containers, each with a specific purpose, just like different rooms in a house serve different functions.\n"
   ]
  },
  {
   "cell_type": "markdown",
   "id": "22178fd2-3f2e-45f2-b477-5a70f2161c88",
   "metadata": {
    "jp-MarkdownHeadingCollapsed": true
   },
   "source": [
    "### 1. Basic Structure of HTML\n",
    "\n",
    "HTML (HyperText Markup Language) uses elements enclosed in tags:\n",
    "\n",
    "- Tags usually come in pairs: opening `<tag>` and closing `</tag>`\n",
    "- Elements can contain text, other elements, or both\n",
    "- Some elements are self-closing `<img />`\n",
    "\n",
    "#### Let's have some fun with a small example :\n"
   ]
  },
  {
   "cell_type": "code",
   "execution_count": 84,
   "id": "f269b957-bd87-4b8b-b7d6-1e092430c7ff",
   "metadata": {
    "trusted": false
   },
   "outputs": [
    {
     "data": {
      "text/html": [
       "\n",
       "<!DOCTYPE html>\n",
       "<html>\n",
       "<head>\n",
       "  <title>All muslims are brothers</title>\n",
       "</head>\n",
       "<body>\n",
       "  <h1>Free Palestine 🇵🇸</h1>\n",
       "  <p>don't forgot our brothers in Gaza 🤲 </p>\n",
       "</body>\n",
       "</html>\n"
      ],
      "text/plain": [
       "<IPython.core.display.HTML object>"
      ]
     },
     "metadata": {},
     "output_type": "display_data"
    }
   ],
   "source": [
    "%%html\n",
    "\n",
    "<!DOCTYPE html>\n",
    "<html>\n",
    "<head>\n",
    "  <title>All muslims are brothers</title>\n",
    "</head>\n",
    "<body>\n",
    "  <h1>Free Palestine 🇵🇸</h1>\n",
    "  <p>don't forgot our brothers in Gaza 🤲 </p>\n",
    "</body>\n",
    "</html>"
   ]
  },
  {
   "cell_type": "markdown",
   "id": "cb4f3757-232c-48cc-9514-aaf6efd96e61",
   "metadata": {},
   "source": [
    "Let's break it down:\n",
    "\n",
    "- `<!DOCTYPE html>`: This tells the browser that we're writing HTML.\n",
    "- `<html>`: This is the root element of an HTML page.\n",
    "- `<head>`: This contains information about the webpage (like the title), and here we refer to another files like CSS and JS.\n",
    "- `<title>`: This sets the title of the webpage, which appears in the browser's tab.\n",
    "- `<body>`: This contains the visible content of the webpage.\n",
    "- `<h1>`: This is a heading, and it's the largest heading.\n",
    "- `<p>`: This is a paragraph.\n",
    "\n",
    "What happens when you run this code?\n",
    "\n",
    "When you open this HTML file in a web browser, you'll see a page with a big heading that says \"Free Palestine 🇵🇸\" and a paragraph below it.\n",
    "\n",
    "#### Remember, HTML is like building with blocks. You can add more blocks, like images, links, and lists, to make your webpage more exciting!\n"
   ]
  },
  {
   "cell_type": "markdown",
   "id": "332644e0-b488-449e-8737-b1f1739a41d4",
   "metadata": {},
   "source": [
    "### 2. Common Elements\n",
    "\n",
    "let's start with the most common elements:\n",
    "\n",
    "- Headings: `<h1>` to `<h6>` (`<h1>` is the biggest heading and `<h6>` is the smallest one)\n",
    "\n",
    "  <img src='./images/Heading-Tag.jpg' width='250' />\n",
    "\n",
    "- Paragraphs: `<p>`\n"
   ]
  },
  {
   "cell_type": "code",
   "execution_count": 100,
   "id": "548ad780",
   "metadata": {},
   "outputs": [
    {
     "data": {
      "text/html": [
       "\n",
       "<h1>The Pillars of Islam</h1>\n",
       "<p>The Five Pillars of Islam are the fundamental practices that every Muslim must follow in their life. They form the foundation of Islamic faith and worship.</p>\n"
      ],
      "text/plain": [
       "<IPython.core.display.HTML object>"
      ]
     },
     "metadata": {},
     "output_type": "display_data"
    }
   ],
   "source": [
    "%%html\n",
    "\n",
    "<h1>The Pillars of Islam</h1>\n",
    "<p>The Five Pillars of Islam are the fundamental practices that every Muslim must follow in their life. They form the foundation of Islamic faith and worship.</p>\n"
   ]
  },
  {
   "cell_type": "markdown",
   "id": "f2a15a46",
   "metadata": {},
   "source": [
    "### Code Practice\n",
    "\n",
    "add to the previous example a new h3 tag with the text \"the five Pillars of Islam\", then add a paragraph with the text \"a list of the five pillars of Islam:\".\n"
   ]
  },
  {
   "cell_type": "code",
   "execution_count": 106,
   "id": "7cda4350",
   "metadata": {},
   "outputs": [
    {
     "data": {
      "text/html": [
       "\n",
       "<h3>the five Pillars of Islam</h3>\n",
       "<p> a list of the five pillars of Islam: </p>\n"
      ],
      "text/plain": [
       "<IPython.core.display.HTML object>"
      ]
     },
     "metadata": {},
     "output_type": "display_data"
    }
   ],
   "source": [
    "%%html\n",
    "\n",
    "<h3>the five Pillars of Islam</h3>\n",
    "<p> a list of the five pillars of Islam: </p>"
   ]
  },
  {
   "cell_type": "markdown",
   "id": "d8b4594e",
   "metadata": {},
   "source": [
    "### now let's see the elements that make a list and links:\n",
    "\n",
    "- Lists: `<ul>`Unordered list (bullets),\n",
    "  `<ol>`Ordered list (numbers) ,\n",
    "  `<li>` List item (each item in the list)\n",
    "- Links: `<a>`\n"
   ]
  },
  {
   "cell_type": "code",
   "execution_count": 103,
   "id": "159a9bc5",
   "metadata": {},
   "outputs": [
    {
     "data": {
      "text/html": [
       "\n",
       "<ol>\n",
       "    <li>Declaration of Faith (Shahada)</li>\n",
       "    <li>Prayer (Salah)</li>\n",
       "    <li>Charity (Zakat)</li>\n",
       "    <li>Fasting (Sawm)</li>\n",
       "    <li>Pilgrimage (Hajj)</li>\n",
       "</ol>\n"
      ],
      "text/plain": [
       "<IPython.core.display.HTML object>"
      ]
     },
     "metadata": {},
     "output_type": "display_data"
    }
   ],
   "source": [
    "%%html\n",
    "\n",
    "<ol>\n",
    "    <li>Declaration of Faith (Shahada)</li>\n",
    "    <li>Prayer (Salah)</li>\n",
    "    <li>Charity (Zakat)</li>\n",
    "    <li>Fasting (Sawm)</li>\n",
    "    <li>Pilgrimage (Hajj)</li>\n",
    "</ol>\n"
   ]
  },
  {
   "cell_type": "markdown",
   "id": "f3891658",
   "metadata": {},
   "source": [
    "### Code Practice\n",
    "\n",
    "add a **paragraph** to the page that says \"Learn more about the Five Pillars of Islam\" and add a **link** inside it that says \"here\"\n",
    "\n",
    "- **hint**: to the link source use the **href** attribute inside the **a** tag and put the following url inside it:\n",
    "  https://www.islamreligion.com/articles/188/five-pillars-of-islam\n"
   ]
  },
  {
   "cell_type": "code",
   "execution_count": null,
   "id": "6974a2dc",
   "metadata": {},
   "outputs": [
    {
     "data": {
      "text/html": [
       "\n",
       "<p> \n",
       "Learn more about the Five Pillars of Islam\n",
       "<a href=\"https://www.islamreligion.com/articles/188/five-pillars-of-islam/\">here</a>\n",
       "</p>\n"
      ],
      "text/plain": [
       "<IPython.core.display.HTML object>"
      ]
     },
     "metadata": {},
     "output_type": "display_data"
    }
   ],
   "source": [
    "%%html\n",
    "\n",
    "<p>\n",
    "Learn more about the Five Pillars of Islam\n",
    "<a href=\"https://www.islamreligion.com/articles/188/five-pillars-of-islam/\">here</a>\n",
    "</p>\n"
   ]
  },
  {
   "cell_type": "markdown",
   "id": "6e1d41ab",
   "metadata": {},
   "source": [
    "- ### div and img tags\n",
    "\n",
    "  in the previous example, we put the a tag inside the p tag, but we a have a special tag for this, the **div** tag, this tag is used to group elements, and it is used to create a division or section in a document.\n",
    "\n",
    "- finally we have the **img** tag, this tag is used to insert an image in a document using the src attribute, the src attribute is used to specify the path of the image.\n"
   ]
  },
  {
   "cell_type": "code",
   "execution_count": 89,
   "id": "1f36ec04",
   "metadata": {},
   "outputs": [
    {
     "data": {
      "text/html": [
       "\n",
       "<div>\n",
       "<p>Learn more about the Five Pillars of Islam</p>\n",
       "<a href=\"https://www.islamreligion.com/articles/188/five-pillars-of-islam/\">here</a>\n",
       "</div>\n",
       "\n",
       "<div>\n",
       "    <img src=\"https://quranhost.com/wp-content/uploads/2021/09/The-First-Pilar-of-Islam.jpg\" width='300' alt=\"Shahada\">\n",
       "    <img src=\"https://c.pxhere.com/images/10/d8/7d0ce65dfe8dee8e183b19bd8873-1451241.jpg!d\" width='300' alt=\"Salah\">\n",
       "    <img src=\"https://tasleemalquran.com/wp-content/uploads/2022/01/png_20220105_023805_0000-1024x427.png\" width='300' alt=\"Zakat\">\n",
       "</div>\n"
      ],
      "text/plain": [
       "<IPython.core.display.HTML object>"
      ]
     },
     "metadata": {},
     "output_type": "display_data"
    }
   ],
   "source": [
    "%%html\n",
    "\n",
    "<div>\n",
    "<p>Learn more about the Five Pillars of Islam</p>\n",
    "<a href=\"https://www.islamreligion.com/articles/188/five-pillars-of-islam/\">here</a>\n",
    "</div>\n",
    "\n",
    "<div>\n",
    "    <img src=\"https://quranhost.com/wp-content/uploads/2021/09/The-First-Pilar-of-Islam.jpg\" width='300' alt=\"Shahada\">\n",
    "    <img src=\"https://c.pxhere.com/images/10/d8/7d0ce65dfe8dee8e183b19bd8873-1451241.jpg!d\" width='300' alt=\"Salah\">\n",
    "    <img src=\"https://tasleemalquran.com/wp-content/uploads/2022/01/png_20220105_023805_0000-1024x427.png\" width='300' alt=\"Zakat\">\n",
    "</div>"
   ]
  },
  {
   "cell_type": "markdown",
   "id": "9809c1f6",
   "metadata": {},
   "source": [
    "##### now we have a problem, the paragraph and the link aren't in the same line and the images don't have the same size, don't worry we will fix it later\n",
    "\n",
    "### Code Practice\n",
    "\n",
    "let's add some images to our page.\n",
    "in the code below, there is three images for the Pillars of Islam (Shahada, Salah, Zakat).\n",
    "add the remaining two images for the pillars of Islam (Sawm, Hajj).\n"
   ]
  },
  {
   "cell_type": "code",
   "execution_count": 90,
   "id": "5d993be6",
   "metadata": {},
   "outputs": [
    {
     "data": {
      "text/html": [
       "\n",
       "<div>\n",
       "    <img src=\"https://quranhost.com/wp-content/uploads/2021/09/The-First-Pilar-of-Islam.jpg\" width='300' alt=\"Shahada\">\n",
       "    <img src=\"https://c.pxhere.com/images/10/d8/7d0ce65dfe8dee8e183b19bd8873-1451241.jpg!d\" width='300' alt=\"Salah\">\n",
       "    <img src=\"https://tasleemalquran.com/wp-content/uploads/2022/01/png_20220105_023805_0000-1024x427.png\" width='300' alt=\"Zakat\">\n",
       "    <img src=\"https://salamislam.com/sites/default/files/2021-01/fasting.jpg\" width='300' alt=\"Sawm\">\n",
       "    <img src=\"https://www.worthytoshare.com/wp-content/uploads/2017/08/Everything-you-Need-to-Know-About-the-Fifth-Pillar-of-Islam-2048x1152.jpg\" width='300' alt=\"Hajj\">\n",
       "</div>\n"
      ],
      "text/plain": [
       "<IPython.core.display.HTML object>"
      ]
     },
     "metadata": {},
     "output_type": "display_data"
    }
   ],
   "source": [
    "%%html\n",
    "\n",
    "<div>\n",
    "    <img src=\"https://quranhost.com/wp-content/uploads/2021/09/The-First-Pilar-of-Islam.jpg\" width='300' alt=\"Shahada\">\n",
    "    <img src=\"https://c.pxhere.com/images/10/d8/7d0ce65dfe8dee8e183b19bd8873-1451241.jpg!d\" width='300' alt=\"Salah\">\n",
    "    <img src=\"https://tasleemalquran.com/wp-content/uploads/2022/01/png_20220105_023805_0000-1024x427.png\" width='300' alt=\"Zakat\">\n",
    "    <img src=\"https://salamislam.com/sites/default/files/2021-01/fasting.jpg\" width='300' alt=\"Sawm\">\n",
    "    <img src=\"https://www.worthytoshare.com/wp-content/uploads/2017/08/Everything-you-Need-to-Know-About-the-Fifth-Pillar-of-Islam-2048x1152.jpg\" width='300' alt=\"Hajj\">\n",
    "</div>"
   ]
  },
  {
   "cell_type": "markdown",
   "id": "d368e159-1f14-4346-a2a2-0b4380eeffaf",
   "metadata": {},
   "source": [
    "### 3. Common HTML Attributes\n",
    "\n",
    "HTML attributes provide additional information or properties to HTML elements. They are always specified in the opening tag.\n",
    "\n",
    "`<tag attribute=\"value\">content</tag>`\n",
    "\n",
    "### Common HTML Attributes:\n",
    "\n",
    "1. **`id`**: Assigns a unique identifier to an element, which can be used for styling or scripting.\n",
    "\n",
    "2. **`class`**: Assigns one or more class names to an element, allowing for CSS styling and JavaScript manipulation.\n",
    "\n",
    "3. **`style`**: Applies inline CSS styles directly to an element.\n",
    "\n",
    "4. **`placeholder`**: Provides a short hint within an input field, indicating what type of information is expected.\n"
   ]
  },
  {
   "cell_type": "code",
   "execution_count": 91,
   "id": "5cdbad83-e197-4d79-96b8-3277e64ec6c7",
   "metadata": {
    "trusted": false
   },
   "outputs": [
    {
     "data": {
      "text/html": [
       "\n",
       "<div id=\"unique-id\" class=\"container main-content\" style=\"background-color: gray\">\n",
       "    <h2>HTML Attributes Demo</h2>\n",
       "    <p id=\"intro\">This paragraph has a unique identifier</p>\n",
       "    <div class=\"box highlight\">This div has multiple classes</div>\n",
       "    <p style=\"color: blue; font-size: 18px;\">This text has inline styling</p>\n",
       "    <input type=\"text\" placeholder=\"Enter your name here\">\n",
       "</div>\n"
      ],
      "text/plain": [
       "<IPython.core.display.HTML object>"
      ]
     },
     "metadata": {},
     "output_type": "display_data"
    }
   ],
   "source": [
    "%%html\n",
    "\n",
    "<div id=\"unique-id\" class=\"container main-content\" style=\"background-color: gray\">\n",
    "    <h2>HTML Attributes Demo</h2>\n",
    "    <p id=\"intro\">This paragraph has a unique identifier</p>\n",
    "    <div class=\"box highlight\">This div has multiple classes</div>\n",
    "    <p style=\"color: blue; font-size: 18px;\">This text has inline styling</p>\n",
    "    <input type=\"text\" placeholder=\"Enter your name here\">\n",
    "</div>\n"
   ]
  },
  {
   "cell_type": "markdown",
   "id": "7a5cc424-e514-4e1a-b3bc-3da959bae5d1",
   "metadata": {
    "jp-MarkdownHeadingCollapsed": true
   },
   "source": [
    "## 4. Reflection\n",
    "\n",
    "Consider how websites can:\n",
    "\n",
    "- Share beneficial knowledge\n",
    "- Help connect communities\n",
    "- Solve real-world problems\n",
    "- Make information accessible to others\n",
    "\n",
    "### Discussion Questions\n",
    "\n",
    "1. How can we use web development skills to benefit our community?\n",
    "2. What kind of websites would you like to create?\n",
    "3. How does attention to detail in coding relate to excellence (Ihsan) in Islam?\n"
   ]
  },
  {
   "cell_type": "markdown",
   "id": "6307d222-fecb-4cdb-b405-736e8b274f88",
   "metadata": {
    "jp-MarkdownHeadingCollapsed": true
   },
   "source": [
    "## 5. Conclusion\n",
    "\n",
    "Today we learned:\n",
    "\n",
    "- The basic structure of HTML documents\n",
    "- How to create headings, paragraphs, and lists\n",
    "- How to add links and images\n",
    "- The importance of clean, organized code\n"
   ]
  },
  {
   "cell_type": "markdown",
   "id": "9440c1b1-8528-44db-969b-04d5fa7a64ea",
   "metadata": {
    "jp-MarkdownHeadingCollapsed": true
   },
   "source": [
    "## 6. Homework\n",
    "\n",
    "### edit on the HTML code as the follwoing:\n",
    "\n",
    "**1. Add a title:**\n",
    "Add a title for the web page, the title is \"The Pillars of Islam\"\n",
    "\n",
    "**2. Add description:**\n",
    "add a description for two pillar from your choice.\n",
    "\n",
    "**3. cahnge the width of the images to 200px.**\n",
    "\n",
    "**4. make the paragraph and the link at the same line in more-info calss:**\n",
    "here you can search for the method on internet (there are more than one method to do this).\n"
   ]
  },
  {
   "cell_type": "code",
   "execution_count": 2,
   "id": "f33cedc4",
   "metadata": {},
   "outputs": [
    {
     "data": {
      "text/html": [
       "\n",
       "<html lang=\"en\">\n",
       "<head>\n",
       "    <meta charset=\"UTF-8\">\n",
       "    <meta name=\"viewport\" content=\"width=device-width, initial-scale=1.0\">\n",
       "</head>\n",
       "\n",
       "<body>\n",
       "<h1>The Pillars of Islam</h1>\n",
       "<p>The Five Pillars of Islam are the fundamental practices that every Muslim must follow in their life. They form the foundation of Islamic faith and worship.</p>\n",
       "\n",
       "<h3>the five Pillars of Islam are: </h3>\n",
       "<ol>\n",
       "    <li>Declaration of Faith (Shahada)</li>\n",
       "    <li>Prayer (Salah)</li>\n",
       "    <li>Charity (Zakat)</li>\n",
       "    <li>Fasting (Sawm)</li>\n",
       "    <li>Pilgrimage (Hajj)</li>\n",
       "</ol>\n",
       "\n",
       "<div>\n",
       "    <img src=\"https://quranhost.com/wp-content/uploads/2021/09/The-First-Pilar-of-Islam.jpg\" width='300' alt=\"Shahada\">\n",
       "    <img src=\"https://c.pxhere.com/images/10/d8/7d0ce65dfe8dee8e183b19bd8873-1451241.jpg!d\" width='300' alt=\"Salah\">\n",
       "    <img src=\"https://tasleemalquran.com/wp-content/uploads/2022/01/png_20220105_023805_0000-1024x427.png\" width='300' alt=\"Zakat\">\n",
       "    <img src=\"https://salamislam.com/sites/default/files/2021-01/fasting.jpg\" width='300' alt=\"Sawm\">\n",
       "    <img src=\"https://www.worthytoshare.com/wp-content/uploads/2017/08/Everything-you-Need-to-Know-About-the-Fifth-Pillar-of-Islam-2048x1152.jpg\" width='300' alt=\"Hajj\">\n",
       "</div>\n",
       "\n",
       "<div>\n",
       "    <p>Learn more about the Five Pillars of Islam</p>\n",
       "    <a href=\"https://www.islamreligion.com/articles/188/five-pillars-of-islam/\">here</a>\n",
       "</div>\n",
       "</body>\n",
       "</html>\n"
      ],
      "text/plain": [
       "<IPython.core.display.HTML object>"
      ]
     },
     "metadata": {},
     "output_type": "display_data"
    }
   ],
   "source": [
    "%%html\n",
    "\n",
    "<html lang=\"en\">\n",
    "<head>\n",
    "    <meta charset=\"UTF-8\">\n",
    "    <meta name=\"viewport\" content=\"width=device-width, initial-scale=1.0\">\n",
    "</head>\n",
    "\n",
    "<body>\n",
    "<h1>The Pillars of Islam</h1>\n",
    "<p>The Five Pillars of Islam are the fundamental practices that every Muslim must follow in their life. They form the foundation of Islamic faith and worship.</p>\n",
    "\n",
    "<h3>the five Pillars of Islam are: </h3>\n",
    "<ol>\n",
    "    <li>Declaration of Faith (Shahada)</li>\n",
    "    <li>Prayer (Salah)</li>\n",
    "    <li>Charity (Zakat)</li>\n",
    "    <li>Fasting (Sawm)</li>\n",
    "    <li>Pilgrimage (Hajj)</li>\n",
    "</ol>\n",
    "\n",
    "<div>\n",
    "    <img src=\"https://quranhost.com/wp-content/uploads/2021/09/The-First-Pilar-of-Islam.jpg\" width='300' alt=\"Shahada\">\n",
    "    <img src=\"https://c.pxhere.com/images/10/d8/7d0ce65dfe8dee8e183b19bd8873-1451241.jpg!d\" width='300' alt=\"Salah\">\n",
    "    <img src=\"https://tasleemalquran.com/wp-content/uploads/2022/01/png_20220105_023805_0000-1024x427.png\" width='300' alt=\"Zakat\">\n",
    "    <img src=\"https://salamislam.com/sites/default/files/2021-01/fasting.jpg\" width='300' alt=\"Sawm\">\n",
    "    <img src=\"https://www.worthytoshare.com/wp-content/uploads/2017/08/Everything-you-Need-to-Know-About-the-Fifth-Pillar-of-Islam-2048x1152.jpg\" width='300' alt=\"Hajj\">\n",
    "</div>\n",
    "\n",
    "<div>\n",
    "    <p>Learn more about the Five Pillars of Islam</p>\n",
    "    <a href=\"https://www.islamreligion.com/articles/188/five-pillars-of-islam/\">here</a>\n",
    "</div>\n",
    "</body>\n",
    "</html>\n"
   ]
  }
 ],
 "metadata": {
  "kernelspec": {
   "display_name": "Python 3",
   "language": "python",
   "name": "python3"
  },
  "language_info": {
   "codemirror_mode": {
    "name": "ipython",
    "version": 3
   },
   "file_extension": ".py",
   "mimetype": "text/x-python",
   "name": "python",
   "nbconvert_exporter": "python",
   "pygments_lexer": "ipython3",
   "version": "3.12.7"
  }
 },
 "nbformat": 4,
 "nbformat_minor": 5
}
