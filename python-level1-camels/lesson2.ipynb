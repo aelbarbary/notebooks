{
  "cells": [
    {
      "cell_type": "markdown",
      "id": "282b251f",
      "metadata": {},
      "source": [
        "# 1. Refresher: Print Statement\n",
        "\n",
        "Before starting the challenges, let’s remember how the `print()` function works in Python.\n",
        "\n",
        "The `print()` statement is used to display output to the console.\n",
        "\n",
        "### Challenge 1: Print Your Name, Age, and Weekend Activity\n",
        "Can you print your name, age, and what you like to do on the weekend?\n",
        "\n",
        "Write the code to display this information below:"
      ]
    },
    {
      "cell_type": "code",
      "execution_count": 2,
      "id": "8082a528",
      "metadata": {},
      "outputs": [],
      "source": [
        "# yout code here"
      ]
    },
    {
      "cell_type": "markdown",
      "id": "51a45ec2",
      "metadata": {},
      "source": [
        "🎮 **Great job!** Now, let's move on to the next challenge.\n",
        "\n",
        "### Challenge 2: Print a Square\n",
        "For the next task, you will need to print a simple square using asterisks (`*`).\n",
        "The square should look like this:\n",
        "\n",
        "```\n",
        "* * * * *\n",
        "* * * * *\n",
        "* * * * *\n",
        "* * * * *\n",
        "* * * * *\n",
        "```\n",
        "Try to print the square below!"
      ]
    },
    {
      "cell_type": "code",
      "execution_count": 3,
      "id": "608939bf",
      "metadata": {},
      "outputs": [],
      "source": [
        "# yout code here"
      ]
    },
    {
      "cell_type": "markdown",
      "id": "b31bb74d",
      "metadata": {},
      "source": [
        "✅ **What we've done so far:**\n",
        "- We learned about the `print()` statement.\n",
        "- Printed our name, age, and weekend activity.\n",
        "- Printed a square using loops and the `*` symbol.\n",
        "\n",
        "Let’s move forward with more Python basics!"
      ]
    },
    {
      "cell_type": "code",
      "execution_count": 1,
      "id": "8e73e61e",
      "metadata": {},
      "outputs": [
        {
          "name": "stdout",
          "output_type": "stream",
          "text": [
            "10\n"
          ]
        }
      ],
      "source": [
        "age = 10  \n",
        "\n",
        "print(age)"
      ]
    },
    {
      "cell_type": "markdown",
      "id": "51a45ec2",
      "metadata": {},
      "source": [
        "🎮 **Variables can store different kinds of data!** We can also store text, called **strings**, in a variable.\n",
        "\n",
        "Let's create a new variable to store a word (a string) and print it!"
      ]
    },
    {
      "cell_type": "code",
      "execution_count": 2,
      "id": "608939bf",
      "metadata": {},
      "outputs": [
        {
          "name": "stdout",
          "output_type": "stream",
          "text": [
            "Ahmed\n"
          ]
        }
      ],
      "source": [
        "name = \"Ahmed\" \n",
        "\n",
        "print(name) "
      ]
    },
    {
      "cell_type": "markdown",
      "id": "b31bb74d",
      "metadata": {},
      "source": [
        "✅ **What we've done so far:**\n",
        "- We created a variable called **'age'** to store a number (integer).\n",
        "- We created another variable called **'name'** to store a word (string).\n",
        "\n",
        "Now, let's talk about **Data Types**! 🎯"
      ]
    },
    {
      "cell_type": "code",
      "execution_count": 3,
      "id": "8e73e61e",
      "metadata": {},
      "outputs": [
        {
          "name": "stdout",
          "output_type": "stream",
          "text": [
            "Age: 10\n",
            "Height: 1.5\n",
            "Greeting: Assalamo Alaykom\n",
            "Is student: True\n",
            "Is teacher: False\n"
          ]
        }
      ],
      "source": [
        "age = 10  # Integer because it's a whole number.\n",
        "print(\"Age:\", age) \n",
        "\n",
        "height = 1.5  # Float because it has a decimal point.\n",
        "print(\"Height:\", height)  \n",
        "\n",
        "greeting = \"Assalamo Alaykom\"  # This is a string (a sequence of characters).\n",
        "print(\"Greeting:\", greeting)  \n",
        "\n",
        "is_student = True  # Boolean value (True or False).\n",
        "is_teacher = False  # Another Boolean value.\n",
        "print(\"Is student:\", is_student)  \n",
        "print(\"Is teacher:\", is_teacher) "
      ]
    },
    {
      "cell_type": "markdown",
      "id": "8e528012",
      "metadata": {},
      "source": [
        "✅ **Summary so far:**\n",
        "- We learned about variables and how to store different types of data.\n",
        "- We also learned about **4 main data types**:\n",
        "  1. Integer (Whole numbers)\n",
        "  2. Float (Numbers with decimals)\n",
        "  3. String (Text)\n",
        "  4. Boolean (True or False)\n",
        "\n",
        "Let's now try mixing different types of data together! 🎨"
      ]
    },
    {
      "cell_type": "code",
      "execution_count": 4,
      "id": "92646147",
      "metadata": {},
      "outputs": [
        {
          "name": "stdout",
          "output_type": "stream",
          "text": [
            "Total (saving1 + saving2): 30\n",
            "My name is Ahmed and I am 10 years old.\n"
          ]
        }
      ],
      "source": [
        "saving1 = 10\n",
        "saving2 = 20\n",
        "\n",
        "total = saving1 + saving2 \n",
        "print(\"Total (saving1 + saving2):\", total)  "
      ]
    },
    {
      "cell_type": "markdown",
      "id": "e02a7378",
      "metadata": {},
      "source": [
        "🎉 **Congratulations!** You have learned how to:\n",
        "- Use variables to store information.\n",
        "- Work with different data types: Integers, Floats, Strings, and Booleans.\n",
        "- Combine variables of different data types together!\n",
        "\n",
        "Now, it's time for a fun challenge! 🏆\n",
        "### Challenge 3: "
      ]
    },
    {
      "cell_type": "markdown",
      "id": "extra-challenge",
      "metadata": {},
      "source": [
        "🔍 **Extra Challenge:** 🔍\n",
        "Can you create your own variable to store your **favorite color**?\n",
        "Then, print a sentence like this:\n",
        "  **\"My favorite color is [color].\"**\n",
        "\n",
        "Try it out below!"
      ]
    },
    {
      "cell_type": "code",
      "execution_count": 5,
      "id": "73dfacb2",
      "metadata": {},
      "outputs": [],
      "source": [
        "# yout code here\n"
      ]
    },
    {
      "cell_type": "markdown",
      "id": "b8aad283",
      "metadata": {},
      "source": [
        "### Challenge 4:\n",
        "Can you create the following variables and print them out?\n",
        "\n",
        "1. A variable to store your **height** (a float).\n",
        "2. A variable to store whether you're a **student** or not (a boolean).\n",
        "3. A variable to store your **city** (a string).\n",
        "\n",
        "Then, print a sentence that includes all the information, like this:\n",
        "I am [height] meters tall, I live in [city], and it is [True/False] that I am a student.\n",
        "\n",
        "Try it below!"
      ]
    },
    {
      "cell_type": "code",
      "execution_count": null,
      "id": "b56960e2",
      "metadata": {},
      "outputs": [],
      "source": [
        "# yout code here"
      ]
    },
    {
      "cell_type": "markdown",
      "id": "8e67740c",
      "metadata": {},
      "source": [
        "### Homework:\n",
        "Create variables for your name, your age, and whether you prayed Fajr today. Use print statements to display each variable.\n",
        "\n",
        "Example: Name: Ahmed Age: 10 Prayed Fajr Today: True\n",
        "\n",
        "Print Statements: \"My name is Ahmed\" \"I am 10 years old\" \"I prayed Fajr today: True\""
      ]
    },
    {
      "cell_type": "code",
      "execution_count": 12,
      "id": "a5bfd1a9",
      "metadata": {},
      "outputs": [],
      "source": [
        "# yout code here"
      ]
    }
  ],
  "metadata": {
    "kernelspec": {
      "display_name": "Python 3",
      "language": "python",
      "name": "python3"
    },
    "language_info": {
      "codemirror_mode": {
        "name": "ipython",
        "version": 3
      },
      "file_extension": ".py",
      "mimetype": "text/x-python",
      "name": "python",
      "nbconvert_exporter": "python",
      "pygments_lexer": "ipython3",
      "version": "3.12.5"
    }
  },
  "nbformat": 4,
  "nbformat_minor": 5
}
