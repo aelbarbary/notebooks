{
 "cells": [
  {
   "cell_type": "markdown",
   "id": "282b251f",
   "metadata": {},
   "source": [
    "# 1. Introduction to Variables and Data Types in Python\n",
    "\n",
    "🎉 **Welcome to your first Python lesson!** 🎉\n",
    "\n",
    "Today, we will learn two important things:\n",
    "1. **Variables**\n",
    "2. **Data Types**\n",
    "\n",
    "These are the building blocks that help us work with data in Python.\n",
    "\n",
    "Let's get started! 🚀"
   ]
  },
  {
   "cell_type": "code",
   "execution_count": 2,
   "id": "8082a528",
   "metadata": {},
   "outputs": [
    {
     "name": "stdout",
     "output_type": "stream",
     "text": [
      "10\n"
     ]
    }
   ],
   "source": [
    "# 2. Creating Your First Variable\n",
    "# A variable stores information. Let's create a variable that stores a number!\n",
    "age = 10  # We stored the number 10 in the \"age\" variable.\n",
    "\n",
    "# Let's print it and see what we stored!\n",
    "print(age)  # This will show us the value of 'age' (10)."
   ]
  },
  {
   "cell_type": "markdown",
   "id": "51a45ec2",
   "metadata": {},
   "source": [
    "🎮 **Variables can store different kinds of data!**\n",
    "\n",
    "We can also store text, called **strings**, in a variable.\n",
    "\n",
    "Let's create a new variable to store a word (a string) and print it!"
   ]
  },
  {
   "cell_type": "code",
   "execution_count": 2,
   "id": "608939bf",
   "metadata": {},
   "outputs": [],
   "source": [
    "# 3. Storing Text (Strings) in a Variable\n",
    "name = \"ِAhmed\"  \n",
    "\n",
    "# Now let's print the name!\n",
    "print(name)  # This will print the name 'Ahmed'."
   ]
  },
  {
   "cell_type": "markdown",
   "id": "b31bb74d",
   "metadata": {},
   "source": [
    "✅ **What we've done so far:**\n",
    "- We created a variable called **'age'** to store a number (integer).\n",
    "- We created another variable called **'name'** to store a word (string).\n",
    "\n",
    "Now, let's talk about **Data Types**! 🎯"
   ]
  },
  {
   "cell_type": "code",
   "execution_count": 3,
   "id": "8e73e61e",
   "metadata": {},
   "outputs": [
    {
     "name": "stdout",
     "output_type": "stream",
     "text": [
      "Age: 10\n",
      "Height: 1.5\n",
      "Greeting: Hello, world!\n",
      "Is student: True\n",
      "Is teacher: False\n"
     ]
    }
   ],
   "source": [
    "# 4. Understanding Data Types\n",
    "\n",
    "# 1. Integer: Whole numbers (no decimal)\n",
    "age = 10  # Integer because it's a whole number.\n",
    "print(\"Age:\", age)  # Output will be: 10\n",
    "\n",
    "# 2. Float: Numbers with decimals\n",
    "height = 1.5  # Float because it has a decimal point.\n",
    "print(\"Height:\", height)  # Output will be: 1.5\n",
    "\n",
    "# 3. String: Words or Text\n",
    "greeting = \"Hello, world!\"  # This is a string (a sequence of characters).\n",
    "print(\"Greeting:\", greeting)  # Output will be: Hello, world!\n",
    "\n",
    "# 4. Boolean: True or False\n",
    "is_student = True  # Boolean value (True or False).\n",
    "is_teacher = False  # Another Boolean value.\n",
    "print(\"Is student:\", is_student)  # Output will be: True\n",
    "print(\"Is teacher:\", is_teacher)  # Output will be: False"
   ]
  },
  {
   "cell_type": "markdown",
   "id": "8e528012",
   "metadata": {},
   "source": [
    "✅ **Summary so far:**\n",
    "- We learned about variables and how to store different types of data.\n",
    "- We also learned about **4 main data types**:\n",
    "  1. Integer (Whole numbers)\n",
    "  2. Float (Numbers with decimals)\n",
    "  3. String (Text)\n",
    "  4. Boolean (True or False)\n",
    "\n",
    "Let's now try mixing different types of data together! 🎨"
   ]
  },
  {
   "cell_type": "code",
   "execution_count": 4,
   "id": "92646147",
   "metadata": {},
   "outputs": [],
   "source": [
    "# 5. Combining Variables\n",
    "\n",
    "# Let's add the \"age\" and \"height\" variables together!\n",
    "total = age + height  # Adding an integer (age) and a float (height).\n",
    "print(\"Total (age + height):\", total)  # Output will be: 11.5\n",
    "\n",
    "# Now, let's combine strings!\n",
    "message = \"My name is \" + name + \" and I am \" + str(age) + \" years old.\"\n",
    "# We used 'str(age)' to change the number 'age' into a string before adding it to the message.\n",
    "print(message)  # Output will be: My name is Alice and I am 10 years old."
   ]
  },
  {
   "cell_type": "markdown",
   "id": "e02a7378",
   "metadata": {},
   "source": [
    "🎉 **Congratulations!** You have learned how to:\n",
    "- Use variables to store information.\n",
    "- Work with different data types: Integers, Floats, Strings, and Booleans.\n",
    "- Combine variables of different data types together!\n",
    "\n",
    "Now, it's time for a fun challenge! 🏆"
   ]
  },
  {
   "cell_type": "markdown",
   "id": "extra-challenge",
   "metadata": {},
   "source": [
    "🔍 **Extra Challenge:** 🔍\n",
    "Can you create your own variable to store your **favorite color**?\n",
    "Then, print a sentence like this:\n",
    "  **\"My favorite color is [color].\"**\n",
    "\n",
    "Try it out below!"
   ]
  },
  {
   "cell_type": "code",
   "execution_count": 5,
   "id": "73dfacb2",
   "metadata": {},
   "outputs": [],
   "source": [
    "# 6. Example Solution for Extra Challenge\n"
   ]
  }
 ],
 "metadata": {
  "kernelspec": {
   "display_name": "Python 3",
   "language": "python",
   "name": "python3"
  },
  "language_info": {
   "codemirror_mode": {
    "name": "ipython",
    "version": 3
   },
   "file_extension": ".py",
   "mimetype": "text/x-python",
   "name": "python",
   "nbconvert_exporter": "python",
   "pygments_lexer": "ipython3",
   "version": "3.12.5"
  }
 },
 "nbformat": 4,
 "nbformat_minor": 5
}
