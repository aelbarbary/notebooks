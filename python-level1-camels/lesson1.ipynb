{
 "cells": [
  {
   "cell_type": "markdown",
   "id": "13656931",
   "metadata": {},
   "source": [
    "# Python Print Statement\n",
    "\n",
    "Welcome! Today we'll learn how to use Python's `print()` statement to display messages and even draw pictures!\n",
    "\n",
    "### Let's start!\n",
    "```python\n",
    "print('Hello, World!')\n",
    "```\n",
    "This tells the computer to print 'Hello, World!' on the screen."
   ]
  },
  {
   "cell_type": "code",
   "execution_count": 8,
   "id": "2564dc94",
   "metadata": {},
   "outputs": [
    {
     "name": "stdout",
     "output_type": "stream",
     "text": [
      "Hello World\n"
     ]
    }
   ],
   "source": [
    "\n",
    "print('Hello World')  "
   ]
  },
  {
   "cell_type": "markdown",
   "id": "cbee2c62",
   "metadata": {},
   "source": [
    "### Challenge 1: Greet Someone!\n",
    "Change the greeting in the next cell. Maybe print your name or a greeting to your friend.\n",
    "Click the play button to see your message!\n"
   ]
  },
  {
   "cell_type": "code",
   "execution_count": 2,
   "id": "76bfbb39",
   "metadata": {},
   "outputs": [],
   "source": [
    "# Challenge 1: Write your greeting!\n"
   ]
  },
  {
   "cell_type": "markdown",
   "id": "ec4ed5a9",
   "metadata": {},
   "source": [
    "### Words are Powerful!\n",
    "In Islam, Allah (SWT) says: 'Speak good or remain silent.' (Hadith)\n",
    "\n",
    "For example, print:\n",
    "```python\n",
    "print('Alhamdulillah for everything!')\n",
    "```\n",
    "This means 'Praise be to Allah for everything!'."
   ]
  },
  {
   "cell_type": "code",
   "execution_count": 9,
   "id": "3dc55739",
   "metadata": {},
   "outputs": [],
   "source": [
    "# Challenge 2: Print something you're grateful for\n"
   ]
  },
  {
   "cell_type": "markdown",
   "id": "40ae57c1",
   "metadata": {},
   "source": [
    "### Challenge 3: Gratitude List\n",
    "Write 3 things you're grateful for. Use 3 `print()` statements, one for each thing.\n",
    "Example:\n",
    "```python\n",
    "print('Alhamdulillah for my health!')\n",
    "\n",
    "```\n",
    "Ready? Go ahead!"
   ]
  },
  {
   "cell_type": "code",
   "execution_count": 4,
   "id": "fa061cb8",
   "metadata": {},
   "outputs": [],
   "source": [
    "# Challenge 3: Write 3 things you're grateful for\n",
    "# Example:\n",
    "\n"
   ]
  },
  {
   "cell_type": "markdown",
   "id": "90ecfb82",
   "metadata": {},
   "source": [
    "### Drawing Shapes with Python!\n",
    "Now, let's get creative and use Python to draw shapes!\n",
    "You can use `print()` to create patterns, like a triangle, square, or even a smiley face!\n",
    "\n",
    "### Challenge 4: Draw a Triangle\n",
    "To draw a triangle, you can use multiple `print()` statements like this:\n",
    "Try it in the next cell and create your own triangle!\n",
    "```python\n",
    "print(\"  /\\\\\")\n",
    "print(\" /  \\\\\")\n",
    "print(\"/____\\\\\")\n",
    "```"
   ]
  },
  {
   "cell_type": "code",
   "execution_count": 5,
   "id": "b681f7db",
   "metadata": {},
   "outputs": [],
   "source": [
    "# Challenge 4: Draw a Triangle\n",
    "# Try printing a triangle like this:\n",
    "\n",
    "\n"
   ]
  },
  {
   "cell_type": "markdown",
   "id": "af272716",
   "metadata": {},
   "source": [
    "### Homework 1: Draw a Square\n",
    "Now, let's draw a square! You can print a square using 4 lines of stars like this:\n",
    "\n",
    "Try drawing your square in the next cell! <br/>\n",
    "<img src=\"images/square.png\" width=\"100\"/>\n"
   ]
  },
  {
   "cell_type": "code",
   "execution_count": 2,
   "id": "02688489",
   "metadata": {},
   "outputs": [],
   "source": [
    "# Challenge 5: Draw a Square\n",
    "# Try printing a square like this:\n",
    "\n"
   ]
  },
  {
   "cell_type": "markdown",
   "id": "588da023",
   "metadata": {},
   "source": [
    "### Challenge 6: Draw a Smiley Face\n",
    "Let's have some fun! Use the `print()` function to draw a smiley face:\n",
    "\n",
    "<img src=\"images/smiley-face.png\" width=\"150\"/>\n",
    "\n",
    "Go ahead, try drawing your own smiley face in the next cell!"
   ]
  },
  {
   "cell_type": "code",
   "execution_count": 7,
   "id": "8c66bd5d",
   "metadata": {},
   "outputs": [],
   "source": [
    "# Challenge 6: Draw a Smiley Face\n",
    "# Try printing a smiley face like this:\n",
    "\n"
   ]
  },
  {
   "cell_type": "markdown",
   "id": "ed20571a",
   "metadata": {},
   "source": [
    "### Boost Your Confidence!\n",
    "You did awesome! Each time you code, you’re learning and getting better. Python is a fun way to bring your ideas to life!\n",
    "\n",
    "Keep practicing and keep exploring. Who knows, soon you'll be making games, apps, and even more cool things with Python!\n",
    "\n",
    "### Next Step\n",
    "In the next lesson, we’ll learn about variables and data structures\n",
    "May Allah (SWT) bless you with knowledge and success!"
   ]
  }
 ],
 "metadata": {
  "kernelspec": {
   "display_name": "Python 3",
   "language": "python",
   "name": "python3"
  },
  "language_info": {
   "codemirror_mode": {
    "name": "ipython",
    "version": 3
   },
   "mimetype": "text/x-python",
   "name": "python",
   "nbconvert_exporter": "python",
   "version": "3.8.8"
  }
 },
 "nbformat": 4,
 "nbformat_minor": 5
}
